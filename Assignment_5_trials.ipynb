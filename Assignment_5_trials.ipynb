{
  "nbformat": 4,
  "nbformat_minor": 0,
  "metadata": {
    "colab": {
      "name": "Assignment 5 trials.ipynb",
      "provenance": [],
      "collapsed_sections": [],
      "include_colab_link": true
    },
    "language_info": {
      "codemirror_mode": {
        "name": "ipython",
        "version": 3
      },
      "file_extension": ".py",
      "mimetype": "text/x-python",
      "name": "python",
      "nbconvert_exporter": "python",
      "pygments_lexer": "ipython3",
      "version": "3.6.8"
    },
    "kernelspec": {
      "display_name": "Python 3",
      "language": "python",
      "name": "python3"
    }
  },
  "cells": [
    {
      "cell_type": "markdown",
      "metadata": {
        "id": "view-in-github",
        "colab_type": "text"
      },
      "source": [
        "<a href=\"https://colab.research.google.com/github/AniketDessai/AAIC_files/blob/assignment5/Assignment_5_trials.ipynb\" target=\"_parent\"><img src=\"https://colab.research.google.com/assets/colab-badge.svg\" alt=\"Open In Colab\"/></a>"
      ]
    },
    {
      "cell_type": "markdown",
      "metadata": {
        "id": "s0Ej_bXyQvnV"
      },
      "source": [
        "# Compute performance metrics for the given Y and Y_score without sklearn"
      ]
    },
    {
      "cell_type": "code",
      "metadata": {
        "id": "4CHb6NE7Qvnc"
      },
      "source": [
        "import numpy as np\n",
        "import pandas as pd\n",
        "# other than these two you should not import any other packages"
      ],
      "execution_count": 1,
      "outputs": []
    },
    {
      "cell_type": "markdown",
      "metadata": {
        "id": "KbsWXuDaQvnq"
      },
      "source": [
        "<pre>\n",
        "<font color='red'><b>A.</b></font> Compute performance metrics for the given data <strong>5_a.csv</strong>\n",
        "   <b>Note 1:</b> in this data you can see number of positive points >> number of negatives points\n",
        "   <b>Note 2:</b> use pandas or numpy to read the data from <b>5_a.csv</b>\n",
        "   <b>Note 3:</b> you need to derive the class labels from given score</pre> $y^{pred}= \\text{[0 if y_score < 0.5 else 1]}$\n",
        "\n",
        "<pre>\n",
        "<ol>\n",
        "<li> Compute Confusion Matrix </li>\n",
        "<li> Compute F1 Score </li>\n",
        "<li> Compute AUC Score, you need to compute different thresholds and for each threshold compute tpr,fpr and then use               numpy.trapz(tpr_array, fpr_array) <a href='https://stackoverflow.com/q/53603376/4084039'>https://stackoverflow.com/q/53603376/4084039</a>, <a href='https://stackoverflow.com/a/39678975/4084039'>https://stackoverflow.com/a/39678975/4084039</a> Note: it should be numpy.trapz(tpr_array, fpr_array) not numpy.trapz(fpr_array, tpr_array)</li>\n",
        "<li> Compute Accuracy Score </li>\n",
        "</ol>\n",
        "</pre>"
      ]
    },
    {
      "cell_type": "code",
      "metadata": {
        "colab": {
          "base_uri": "https://localhost:8080/"
        },
        "id": "Qzw5WJ8e6DGv",
        "outputId": "6feb14d9-abcd-46cb-8529-0651d3fd303b"
      },
      "source": [
        "# using the threshold value of 0.5 we compute the following\r\n",
        "url = 'https://raw.githubusercontent.com/AniketDessai/AAIC_files/assignment5/5_a.csv'\r\n",
        "data = pd.read_csv(url)\r\n",
        "\r\n",
        "data['y_hat'] = data['proba'].apply(lambda y: 1 if y > 0.5 else 0)\r\n",
        "\r\n",
        "TN, FP, FN, TP = 0, 0 ,0 ,0\r\n",
        "cor_class=0\r\n",
        "\r\n",
        "for z in range(len(data.proba)):\r\n",
        "        \r\n",
        "        if data.at[z,'y']== 0 and data.at[z,'y_hat']== 0:\r\n",
        "            TN+=1\r\n",
        "            cor_class+=1\r\n",
        "        if data.at[z,'y']== 0 and data.at[z,'y_hat']== 1:\r\n",
        "            FP+=1\r\n",
        "        if data.at[z,'y']== 1 and data.at[z,'y_hat']== 0:\r\n",
        "            FN+=1\r\n",
        "        if data.at[z,'y']== 1 and data.at[z,'y_hat']== 1:\r\n",
        "            TP+=1\r\n",
        "            cor_class+=1\r\n",
        "\r\n",
        "precision = TP/(TP+FP)\r\n",
        "recall =  TP/(TP+FN)    \r\n",
        "f1_score = (2*precision*recall)/(precision*recall)    \r\n",
        "confusion_m = np.array([[TN, FN], [FP, TP]])\r\n",
        "accuracy_score = cor_class/len(data.proba) \r\n",
        "print(' Precision:', precision,'\\n','Recall:', recall, '\\n','F1 Score:', f1_score, '\\n'' Confusion Matrix:','\\n',confusion_m, '\\n', 'Accuracy score:', accuracy_score)\r\n"
      ],
      "execution_count": 10,
      "outputs": [
        {
          "output_type": "stream",
          "text": [
            " Precision: 0.9900990099009901 \n",
            " Recall: 1.0 \n",
            " F1 Score: 2.0 \n",
            " Confusion Matrix: \n",
            " [[    0     0]\n",
            " [  100 10000]] \n",
            " Accuracy score: 0.9900990099009901\n"
          ],
          "name": "stdout"
        }
      ]
    },
    {
      "cell_type": "code",
      "metadata": {
        "id": "WaFLW7oBQvnt",
        "colab": {
          "base_uri": "https://localhost:8080/",
          "height": 298
        },
        "outputId": "506afe19-12e7-437d-e4cb-f4613bb49565"
      },
      "source": [
        "import random, time\r\n",
        "start = time.time()\r\n",
        "\r\n",
        "data = pd.read_csv(url)\r\n",
        "taus=[]\r\n",
        "index_tau = sorted(random.sample(range(1, len((data.proba))+1), 1000))\r\n",
        "for q in index_tau:\r\n",
        "    taus.append(data.proba[q])\r\n",
        "TPR=[]\r\n",
        "FPR=[]\r\n",
        "for tau in sorted(taus, reverse=True):    \r\n",
        "    \r\n",
        "    TN, FP, FN, TP = 0, 0 ,0 ,0\r\n",
        "     \r\n",
        "    data['y_hat'] = data['proba'].apply(lambda y: 1 if y > tau else 0)\r\n",
        "    \r\n",
        "    for z in range(len(data.proba)):\r\n",
        "        \r\n",
        "        if data.at[z,'y']== 0 and data.at[z,'y_hat']== 0:\r\n",
        "            TN+=1\r\n",
        "        if data.at[z,'y']== 0 and data.at[z,'y_hat']== 1:\r\n",
        "            FP+=1\r\n",
        "        if data.at[z,'y']== 1 and data.at[z,'y_hat']== 0:\r\n",
        "            FN+=1\r\n",
        "        if data.at[z,'y']== 1 and data.at[z,'y_hat']== 1:\r\n",
        "            TP+=1\r\n",
        "    \r\n",
        "    TPR.append(TP/(TP+FN))\r\n",
        "    FPR.append(FP/(TN+FP)) \r\n",
        "    \r\n",
        "plot_data = pd.DataFrame()   \r\n",
        "plot_data['TPR']=np.array(TPR)\r\n",
        "plot_data['FPR']=np.array(FPR)\r\n",
        "\r\n",
        "plot_data.plot(kind = 'scatter', x = 'TPR', y = 'FPR')\r\n",
        "end = time.time()\r\n",
        "print(f\"Runtime of the program is {end - start}\")\r\n",
        "print('AUC score:', np.trapz(np.array(TPR), np.array(FPR)))"
      ],
      "execution_count": 21,
      "outputs": [
        {
          "output_type": "stream",
          "text": [
            "Runtime of the program is 309.8427064418793\n"
          ],
          "name": "stdout"
        },
        {
          "output_type": "display_data",
          "data": {
            "image/png": "[encoded data removed]",
            "text/plain": [
              "<Figure size 432x288 with 1 Axes>"
            ]
          },
          "metadata": {
            "tags": [],
            "needs_background": "light"
          }
        }
      ]
    },
    {
      "cell_type": "code",
      "metadata": {
        "colab": {
          "base_uri": "https://localhost:8080/"
        },
        "id": "6Yt-k1klZxE7",
        "outputId": "8b71f3d9-fccd-4a11-bb5b-507da50380ee"
      },
      "source": [
        "\r\n",
        "\r\n"
      ],
      "execution_count": 22,
      "outputs": [
        {
          "output_type": "stream",
          "text": [
            "0.48828550000000004\n",
            "0.9900990099009901 1.0 2.0\n"
          ],
          "name": "stdout"
        }
      ]
    },
    {
      "cell_type": "markdown",
      "metadata": {
        "id": "V5KZem1BQvn2"
      },
      "source": [
        "<pre>\n",
        "<font color='red'><b>B.</b></font> Compute performance metrics for the given data <strong>5_b.csv</strong>\n",
        "   <b>Note 1:</b> in this data you can see number of positive points << number of negatives points\n",
        "   <b>Note 2:</b> use pandas or numpy to read the data from <b>5_b.csv</b>\n",
        "   <b>Note 3:</b> you need to derive the class labels from given score</pre> $y^{pred}= \\text{[0 if y_score < 0.5 else 1]}$\n",
        "\n",
        "<pre>\n",
        "<ol>\n",
        "<li> Compute Confusion Matrix </li>\n",
        "<li> Compute F1 Score </li>\n",
        "<li> Compute AUC Score, you need to compute different thresholds and for each threshold compute tpr,fpr and then use               numpy.trapz(tpr_array, fpr_array) <a href='https://stackoverflow.com/q/53603376/4084039'>https://stackoverflow.com/q/53603376/4084039</a>, <a href='https://stackoverflow.com/a/39678975/4084039'>https://stackoverflow.com/a/39678975/4084039</a></li>\n",
        "<li> Compute Accuracy Score </li>\n",
        "</ol>\n",
        "</pre>"
      ]
    },
    {
      "cell_type": "code",
      "metadata": {
        "colab": {
          "base_uri": "https://localhost:8080/"
        },
        "id": "xv1l_A9F9Fed",
        "outputId": "a5f9a50a-d5f4-4b1a-e1be-1163556ec9ec"
      },
      "source": [
        "# using the threshold value of 0.5 we compute the following\r\n",
        "url = 'https://raw.githubusercontent.com/AniketDessai/AAIC_files/assignment5/5_b.csv'\r\n",
        "data = pd.read_csv(url)\r\n",
        "\r\n",
        "data['y_hat'] = data['proba'].apply(lambda y: 1 if y > 0.5 else 0)\r\n",
        "\r\n",
        "TN, FP, FN, TP = 0, 0 ,0 ,0\r\n",
        "cor_class=0\r\n",
        "\r\n",
        "for z in range(len(data.proba)):\r\n",
        "        \r\n",
        "        if data.at[z,'y']== 0 and data.at[z,'y_hat']== 0:\r\n",
        "            TN+=1\r\n",
        "            cor_class+=1\r\n",
        "        if data.at[z,'y']== 0 and data.at[z,'y_hat']== 1:\r\n",
        "            FP+=1\r\n",
        "        if data.at[z,'y']== 1 and data.at[z,'y_hat']== 0:\r\n",
        "            FN+=1\r\n",
        "        if data.at[z,'y']== 1 and data.at[z,'y_hat']== 1:\r\n",
        "            TP+=1\r\n",
        "            cor_class+=1\r\n",
        "\r\n",
        "precision = TP/(TP+FP)\r\n",
        "recall =  TP/(TP+FN)    \r\n",
        "f1_score = (2*precision*recall)/(precision*recall)    \r\n",
        "confusion_m = np.array([[TN, FN], [FP, TP]])\r\n",
        "accuracy_score = cor_class/len(data.proba) \r\n",
        "print(' Precision:', precision,'\\n','Recall:', recall, '\\n','Confusion Matrix:','\\n', confusion_m, '\\n', 'Accuracy score:', accuracy_score)\r\n"
      ],
      "execution_count": 3,
      "outputs": [
        {
          "output_type": "stream",
          "text": [
            " Precision: 0.1870748299319728 \n",
            " Recall: 0.55 \n",
            " Confusion Matrix: \n",
            " [[9761   45]\n",
            " [ 239   55]] \n",
            " Accuracy score: 0.9718811881188119\n"
          ],
          "name": "stdout"
        }
      ]
    },
    {
      "cell_type": "code",
      "metadata": {
        "colab": {
          "base_uri": "https://localhost:8080/",
          "height": 316
        },
        "id": "TVK85CTF9TSI",
        "outputId": "5ab745e3-4374-4d8d-f255-3939221291fe"
      },
      "source": [
        "import random, time\r\n",
        "start = time.time()\r\n",
        "\r\n",
        "data = pd.read_csv(url)\r\n",
        "taus=[]\r\n",
        "index_tau = sorted(random.sample(range(1, len((data.proba))+1), 1000))\r\n",
        "for q in index_tau:\r\n",
        "    taus.append(data.proba[q])\r\n",
        "TPR=[]\r\n",
        "FPR=[]\r\n",
        "for tau in sorted(taus, reverse=True):    \r\n",
        "    \r\n",
        "    TN, FP, FN, TP = 0, 0 ,0 ,0\r\n",
        "     \r\n",
        "    data['y_hat'] = data['proba'].apply(lambda y: 1 if y > tau else 0)\r\n",
        "    \r\n",
        "    for z in range(len(data.proba)):\r\n",
        "        \r\n",
        "        if data.at[z,'y']== 0 and data.at[z,'y_hat']== 0:\r\n",
        "            TN+=1\r\n",
        "        if data.at[z,'y']== 0 and data.at[z,'y_hat']== 1:\r\n",
        "            FP+=1\r\n",
        "        if data.at[z,'y']== 1 and data.at[z,'y_hat']== 0:\r\n",
        "            FN+=1\r\n",
        "        if data.at[z,'y']== 1 and data.at[z,'y_hat']== 1:\r\n",
        "            TP+=1\r\n",
        "    \r\n",
        "    TPR.append(TP/(TP+FN))\r\n",
        "    FPR.append(FP/(TN+FP)) \r\n",
        "    \r\n",
        "plot_data = pd.DataFrame()   \r\n",
        "plot_data['TPR']=np.array(TPR)\r\n",
        "plot_data['FPR']=np.array(FPR)\r\n",
        "\r\n",
        "plot_data.plot(kind = 'scatter', x = 'TPR', y = 'FPR')\r\n",
        "end = time.time()\r\n",
        "print(f\"Runtime of the program is {end - start}\")\r\n",
        "print('AUC score:', np.trapz(np.array(TPR), np.array(FPR)))"
      ],
      "execution_count": 4,
      "outputs": [
        {
          "output_type": "stream",
          "text": [
            "Runtime of the program is 312.25076961517334\n",
            "AUC score: 0.9361215\n"
          ],
          "name": "stdout"
        },
        {
          "output_type": "display_data",
          "data": {
            "image/png": "[encoded data removed]",
            "text/plain": [
              "<Figure size 432x288 with 1 Axes>"
            ]
          },
          "metadata": {
            "tags": [],
            "needs_background": "light"
          }
        }
      ]
    },
    {
      "cell_type": "markdown",
      "metadata": {
        "id": "GiPGonTzQvoB"
      },
      "source": [
        "<font color='red'><b>C.</b></font> Compute the best threshold (similarly to ROC curve computation) of probability which gives lowest values of metric <b>A</b> for the given data <strong>5_c.csv</strong>\n",
        "<br>\n",
        "\n",
        "you will be predicting label of a data points like this: $y^{pred}= \\text{[0 if y_score < threshold  else 1]}$\n",
        "\n",
        "$ A = 500 \\times \\text{number of false negative} + 100 \\times \\text{numebr of false positive}$\n",
        "\n",
        "<pre>\n",
        "   <b>Note 1:</b> in this data you can see number of negative points > number of positive points\n",
        "   <b>Note 2:</b> use pandas or numpy to read the data from <b>5_c.csv</b>\n",
        "</pre>"
      ]
    },
    {
      "cell_type": "code",
      "metadata": {
        "colab": {
          "base_uri": "https://localhost:8080/",
          "height": 373
        },
        "id": "r0e87zQxBY7D",
        "outputId": "c260fdb7-dad7-4753-de2f-6807f8987105"
      },
      "source": [
        "import random, time\r\n",
        "start = time.time()\r\n",
        "\r\n",
        "url = 'https://raw.githubusercontent.com/AniketDessai/AAIC_files/assignment5/5_c.csv'\r\n",
        "data = pd.read_csv(url)\r\n",
        "data\r\n",
        "thresholds = []\r\n",
        "metric_As = []\r\n",
        "taus=[]\r\n",
        "index_tau = sorted(random.sample(range(1, len((data.prob))+1), 1000))\r\n",
        "for q in index_tau:\r\n",
        "    taus.append(data.prob[q])\r\n",
        "\r\n",
        "for tau in sorted(taus, reverse=True):  \r\n",
        "\r\n",
        "    false_negative = 0\r\n",
        "    false_positive = 0  \r\n",
        "    \r\n",
        "    data['y_hat'] = data['prob'].apply(lambda y: 1 if y > tau else 0)\r\n",
        "    \r\n",
        "    for z in range(len(data.prob)):\r\n",
        "        \r\n",
        "        if data.at[z,'y']== 0 and data.at[z,'y_hat']== 1:\r\n",
        "            false_positive+=1\r\n",
        "        if data.at[z,'y']== 1 and data.at[z,'y_hat']== 0:\r\n",
        "            false_negative+=1\r\n",
        "  \r\n",
        "    thresholds.append(tau)\r\n",
        "    A = 500*false_negative + 100*false_positive\r\n",
        "    metric_As.append(A)\r\n",
        "plot_data = pd.DataFrame()   \r\n",
        "plot_data['Threshold']=np.array(thresholds)\r\n",
        "plot_data['A']=np.array(metric_As)\r\n",
        "\r\n",
        "plot_data.plot(kind = 'scatter', x = 'Threshold', y = 'A')\r\n",
        "end = time.time()\r\n",
        "print(f\"Runtime of the program is {end - start}\")\r\n",
        "print(plot_data.min())\r\n",
        "low_A=plot_data.loc[plot_data['A'] == plot_data.min()[1]].Threshold\r\n",
        "print('Threshold value for lowest A is',float(low_A))"
      ],
      "execution_count": 42,
      "outputs": [
        {
          "output_type": "stream",
          "text": [
            "Runtime of the program is 44.471808671951294\n",
            "Threshold         0.028964\n",
            "A            141000.000000\n",
            "dtype: float64\n",
            "Threshold value for lowest A is  0.22987164436159915\n"
          ],
          "name": "stdout"
        },
        {
          "output_type": "display_data",
          "data": {
            "image/png": "[encoded data removed]",
            "text/plain": [
              "<Figure size 432x288 with 1 Axes>"
            ]
          },
          "metadata": {
            "tags": [],
            "needs_background": "light"
          }
        }
      ]
    },
    {
      "cell_type": "markdown",
      "metadata": {
        "id": "sD4CcgjXQvoL"
      },
      "source": [
        "<pre>\n",
        "<font color='red'><b>D.</b></font> Compute performance metrics(for regression) for the given data <strong>5_d.csv</strong>\n",
        "    <b>Note 2:</b> use pandas or numpy to read the data from <b>5_d.csv</b>\n",
        "    <b>Note 1:</b> <b>5_d.csv</b> will having two columns Y and predicted_Y both are real valued features\n",
        "<ol>\n",
        "<li> Compute Mean Square Error </li>\n",
        "<li> Compute MAPE: https://www.youtube.com/watch?v=ly6ztgIkUxk</li>\n",
        "<li> Compute R^2 error: https://en.wikipedia.org/wiki/Coefficient_of_determination#Definitions </li>\n",
        "</ol>\n",
        "</pre>"
      ]
    },
    {
      "cell_type": "code",
      "metadata": {
        "colab": {
          "base_uri": "https://localhost:8080/",
          "height": 424
        },
        "id": "QVO9LAbqXM34",
        "outputId": "7655972d-9df8-404b-c343-e5b3fbe09c88"
      },
      "source": [
        "import random, time\r\n",
        "start = time.time()\r\n",
        "\r\n",
        "url = 'https://raw.githubusercontent.com/AniketDessai/AAIC_files/assignment5/5_d.csv'\r\n",
        "data = pd.read_csv(url)\r\n",
        "data\r\n",
        "# thresholds = []\r\n",
        "# metric_As = []\r\n",
        "# taus=[]\r\n",
        "# index_tau = sorted(random.sample(range(1, len((data.prob))+1), 1000))\r\n",
        "# for q in index_tau:\r\n",
        "#     taus.append(data.prob[q])\r\n",
        "\r\n",
        "# for tau in sorted(taus, reverse=True):  \r\n",
        "\r\n",
        "#     false_negative = 0\r\n",
        "#     false_positive = 0  \r\n",
        "    \r\n",
        "#     data['y_hat'] = data['prob'].apply(lambda y: 1 if y > tau else 0)\r\n",
        "    \r\n",
        "#     for z in range(len(data.prob)):\r\n",
        "        \r\n",
        "#         if data.at[z,'y']== 0 and data.at[z,'y_hat']== 1:\r\n",
        "#             false_positive+=1\r\n",
        "#         if data.at[z,'y']== 1 and data.at[z,'y_hat']== 0:\r\n",
        "#             false_negative+=1\r\n",
        "  \r\n",
        "#     thresholds.append(tau)\r\n",
        "#     A = 500*false_negative + 100*false_positive\r\n",
        "#     metric_As.append(A)\r\n",
        "# plot_data = pd.DataFrame()   \r\n",
        "# plot_data['Threshold']=np.array(thresholds)\r\n",
        "# plot_data['A']=np.array(metric_As)\r\n",
        "\r\n",
        "# plot_data.plot(kind = 'scatter', x = 'Threshold', y = 'A')\r\n",
        "# end = time.time()\r\n",
        "# print(f\"Runtime of the program is {end - start}\")\r\n",
        "# print(plot_data.min())\r\n",
        "# low_A=plot_data.loc[plot_data['A'] == plot_data.min()[1]].Threshold\r\n",
        "# print('Threshold value for lowest A is',float(low_A))"
      ],
      "execution_count": 43,
      "outputs": [
        {
          "output_type": "execute_result",
          "data": {
            "text/html": [
              "<div>\n",
              "<style scoped>\n",
              "    .dataframe tbody tr th:only-of-type {\n",
              "        vertical-align: middle;\n",
              "    }\n",
              "\n",
              "    .dataframe tbody tr th {\n",
              "        vertical-align: top;\n",
              "    }\n",
              "\n",
              "    .dataframe thead th {\n",
              "        text-align: right;\n",
              "    }\n",
              "</style>\n",
              "<table border=\"1\" class=\"dataframe\">\n",
              "  <thead>\n",
              "    <tr style=\"text-align: right;\">\n",
              "      <th></th>\n",
              "      <th>y</th>\n",
              "      <th>pred</th>\n",
              "    </tr>\n",
              "  </thead>\n",
              "  <tbody>\n",
              "    <tr>\n",
              "      <th>0</th>\n",
              "      <td>101.0</td>\n",
              "      <td>100.0</td>\n",
              "    </tr>\n",
              "    <tr>\n",
              "      <th>1</th>\n",
              "      <td>120.0</td>\n",
              "      <td>100.0</td>\n",
              "    </tr>\n",
              "    <tr>\n",
              "      <th>2</th>\n",
              "      <td>131.0</td>\n",
              "      <td>113.0</td>\n",
              "    </tr>\n",
              "    <tr>\n",
              "      <th>3</th>\n",
              "      <td>164.0</td>\n",
              "      <td>125.0</td>\n",
              "    </tr>\n",
              "    <tr>\n",
              "      <th>4</th>\n",
              "      <td>154.0</td>\n",
              "      <td>152.0</td>\n",
              "    </tr>\n",
              "    <tr>\n",
              "      <th>...</th>\n",
              "      <td>...</td>\n",
              "      <td>...</td>\n",
              "    </tr>\n",
              "    <tr>\n",
              "      <th>157195</th>\n",
              "      <td>87.0</td>\n",
              "      <td>83.0</td>\n",
              "    </tr>\n",
              "    <tr>\n",
              "      <th>157196</th>\n",
              "      <td>97.0</td>\n",
              "      <td>86.0</td>\n",
              "    </tr>\n",
              "    <tr>\n",
              "      <th>157197</th>\n",
              "      <td>106.0</td>\n",
              "      <td>93.0</td>\n",
              "    </tr>\n",
              "    <tr>\n",
              "      <th>157198</th>\n",
              "      <td>105.0</td>\n",
              "      <td>101.0</td>\n",
              "    </tr>\n",
              "    <tr>\n",
              "      <th>157199</th>\n",
              "      <td>81.0</td>\n",
              "      <td>104.0</td>\n",
              "    </tr>\n",
              "  </tbody>\n",
              "</table>\n",
              "<p>157200 rows × 2 columns</p>\n",
              "</div>"
            ],
            "text/plain": [
              "            y   pred\n",
              "0       101.0  100.0\n",
              "1       120.0  100.0\n",
              "2       131.0  113.0\n",
              "3       164.0  125.0\n",
              "4       154.0  152.0\n",
              "...       ...    ...\n",
              "157195   87.0   83.0\n",
              "157196   97.0   86.0\n",
              "157197  106.0   93.0\n",
              "157198  105.0  101.0\n",
              "157199   81.0  104.0\n",
              "\n",
              "[157200 rows x 2 columns]"
            ]
          },
          "metadata": {
            "tags": []
          },
          "execution_count": 43
        }
      ]
    }
  ]
}